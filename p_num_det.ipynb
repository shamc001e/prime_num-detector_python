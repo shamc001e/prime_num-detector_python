{
 "cells": [
  {
   "cell_type": "code",
   "execution_count": null,
   "metadata": {},
   "outputs": [],
   "source": [
    "import sys\n",
    "\n",
    "while True:\n",
    "    number = int(input(\"\\nenter number(1 to stop): \"))\n",
    "    p = True\n",
    "    if number == 1:\n",
    "        sys.exit()\n",
    "    if number == 0:\n",
    "        p = False\n",
    "    h_num = round(number/2 + 1)    \n",
    "    for i in range(2, h_num):\n",
    "        if number % i == 0:\n",
    "            p = False\n",
    "            break\n",
    "    if p:\n",
    "        print(number, \" is a prime number.\")\n",
    "    elif p == False:\n",
    "        if number == 0:\n",
    "            print(\"0 is not a prime number.\")\n",
    "        elif number != 0:\n",
    "            print(number, \" is a composite number.\")"
   ]
  }
 ],
 "metadata": {
  "kernelspec": {
   "display_name": "Python 3",
   "language": "python",
   "name": "python3"
  },
  "language_info": {
   "codemirror_mode": {
    "name": "ipython",
    "version": 3
   },
   "file_extension": ".py",
   "mimetype": "text/x-python",
   "name": "python",
   "nbconvert_exporter": "python",
   "pygments_lexer": "ipython3",
   "version": "3.7.6"
  }
 },
 "nbformat": 4,
 "nbformat_minor": 4
}
